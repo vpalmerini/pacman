{
 "cells": [
  {
   "cell_type": "markdown",
   "id": "a27b7683",
   "metadata": {},
   "source": [
    "# Projeto 3 - MC886 Aprendizado de Máquina\n",
    "\n",
    "Victor Prado Palmerini - 178061\n",
    "\n",
    "Erik Soares - 155261"
   ]
  },
  {
   "cell_type": "markdown",
   "id": "9e5b5080",
   "metadata": {},
   "source": [
    "## Introdução\n",
    "\n",
    "Este é o Projeto 2 da disciplina MC886 - Aprendizado de Máquina - 1S2021\n",
    "\n",
    "Este trabalho é dividido em 2 partes que consistem em diferentes abordagens para resolver de obter o melhor modelo do jogo PacMan para jogar sozinho e atingir a vitória com o maior score possível. Na 1ª parte o modelo é treinado utilizando **Programação Genética**. E na 2ª parte o modelo utiliza **Aprendizado por Reforço**.\n",
    "\n",
    "O jogo utilizado é uma implementação obtida por este [link](http://cs.brynmawr.edu/Courses/cs372/fall2017/Code/search.zip)"
   ]
  },
  {
   "cell_type": "markdown",
   "id": "4e94867f",
   "metadata": {},
   "source": [
    "## Descrição Geral\n",
    "\n",
    "O projeto se baseia neste notebook e em 2 scripts em **Python 2** (`genetic.py` e `reinforcement.py`) que executam junto com o projeto do jogo e são chamados por este notebook. Além disso, há outras implementações complementares que serão citadas ao longo do relatório."
   ]
  },
  {
   "cell_type": "markdown",
   "id": "826b1f8f",
   "metadata": {},
   "source": [
    "## Parte 1 - Programação Genética\n",
    "\n",
    "Nesta parte nos preocupamos em implementar os principais conceitos relacionados à Programação Genética, como a ideia de evolução de indivíduos e gerações, crossover, mutação, entre outros. Existem vários layouts disponíveis mas neste projeto focaremos em 3: `smallClassic`, `mediumClassic` e `originalClassic`."
   ]
  },
  {
   "cell_type": "markdown",
   "id": "c9bd591f",
   "metadata": {},
   "source": [
    "### Desenvolvimento\n",
    "\n",
    "A ideia geral do nosso algoritmo de programação genética é ter a 1ª geração de PacMans com movimentos totalmente aleatórios. Os possíveis movimentos de um indivíduo são: `Stop`, `North`, `East`, `West` e `South`. Claro que isso vai depender também da posição atual do indivíduo, mas em geral esses são os movimentos válidos.\n",
    "\n",
    "A partir da 2ª geração a ideia é que os indivíduos herdem movimentos da geração anterior e que são alterados pro crossover e mutação.\n",
    "\n",
    "Todos os movimentos de cada indivíduo de cada geração são armazenados em arquivos que são criados em tempo de execução do jogo. Isso é útil pois assim conseguimos dar replay no jogo de qualquer indíviduo após a sua execução."
   ]
  },
  {
   "cell_type": "markdown",
   "id": "feff7a11",
   "metadata": {},
   "source": [
    "De acordo com o código do projeto base, é possível criar agents que implementam alguma funcionalidade específica para cada caso de uso. No nosso caso, queremos um agent que se movimenta aleatoriamente (1ª geração) e um agent que carregue a sua sequência de  movimentos a partir de um arquivo e siga tais movimentos no jogo (outras gerações). O agent que se movimenta aleatoriamente está implementado no arquivo `randomAgents.py` e o agent que carrega um caminho está implementado no arquivo `geneticAgents.py`. No caso do 2° agent, caso ele esgote os caminhos carregados do arquivo ele seguirá a partir daí a direção que dará a ele o maior score e que não possui um fantasma. Então ele priorizará direções válidas que contém cápsulas ou pontos; se não houver nada ao redor então ele seleciona uma direção aleatória."
   ]
  },
  {
   "cell_type": "markdown",
   "id": "3474da05",
   "metadata": {},
   "source": [
    "O script `genetic.py` responsável pela implementação do algoritmo de programação genética possui então um loop\n",
    "principal que roda o nº de gerações especificado e para depois de obter todas as gerações ou quando o melhor e o pior indivíduo de uma mesma geração tiverem variação menor que `10%` no valor do fitness (mais sobre o fitness a seguir)."
   ]
  },
  {
   "cell_type": "markdown",
   "id": "c2ee8ce7",
   "metadata": {},
   "source": [
    "Implementamos 3 métodos para o cálculo do **fitness**:\n",
    "\n",
    "- Score médio entre os n jogos rodados pra cada indivíduo (passado como parâmetro - o default é 3)\n",
    "- Nº de vitórias dos n jogos rodados pra cada indivíduo\n",
    "- Score médio / nº de movimentos do caminho com melhor score"
   ]
  },
  {
   "cell_type": "markdown",
   "id": "624a79b0",
   "metadata": {},
   "source": [
    "#### Função de Fitness\n",
    "\n",
    "A função de fitness pode ser especificada por parâmetro na execução do script `genetic.py` com a flag `--fitness`. O cálculo do fitness é importante pois é ele quem mensura a performance dos indivíduos de uma mesma geração. A seguir executaremos o jogo pra cada função de fitness implementada: `score médio`, `nº de vitórias` e `score médio / nº de movimentos`."
   ]
  },
  {
   "cell_type": "markdown",
   "id": "1064f2f1",
   "metadata": {},
   "source": [
    "##### - Score Médio"
   ]
  },
  {
   "cell_type": "markdown",
   "id": "20667674",
   "metadata": {},
   "source": [
    "##### - Nº de Vitórias"
   ]
  },
  {
   "cell_type": "markdown",
   "id": "687b88c1",
   "metadata": {},
   "source": [
    "##### - Score Médio / N° de Movimentos"
   ]
  },
  {
   "cell_type": "markdown",
   "id": "c9f9ab35",
   "metadata": {},
   "source": [
    "#### Tamanho da População\n",
    "\n",
    "Nº de indivíduos que cada geração possui. No nosso modelo estamos considerando um valor constante entre gerações."
   ]
  },
  {
   "cell_type": "markdown",
   "id": "2626314f",
   "metadata": {},
   "source": [
    "##### - 30 Indivíduos por geração"
   ]
  },
  {
   "cell_type": "markdown",
   "id": "64236a62",
   "metadata": {},
   "source": [
    "##### - 60 Indivíduos por geração"
   ]
  },
  {
   "cell_type": "markdown",
   "id": "1dfaa80a",
   "metadata": {},
   "source": [
    "##### - 100 Indivíduos por geração"
   ]
  },
  {
   "cell_type": "markdown",
   "id": "392f25c2",
   "metadata": {},
   "source": [
    "#### Nº de jogos de cada indivíduo\n",
    "\n",
    "O projeto base permite que a gente rode N jogos pra um mesmo indivíduo e que a gente obtenha os resultados desses jogos. Portanto esse pode ser considerado um hiperparâmetro já que a priori consegue-se uma consistência maior nos resultados quando se executa mais jogos."
   ]
  },
  {
   "cell_type": "markdown",
   "id": "4fbd5f3a",
   "metadata": {},
   "source": [
    "##### - 1 jogo"
   ]
  },
  {
   "cell_type": "markdown",
   "id": "c1830301",
   "metadata": {},
   "source": [
    "##### - 3 jogos"
   ]
  },
  {
   "cell_type": "markdown",
   "id": "9772fe59",
   "metadata": {},
   "source": [
    "##### - 5 jogos"
   ]
  },
  {
   "cell_type": "markdown",
   "id": "6a467677",
   "metadata": {},
   "source": [
    "#### Elitismo\n",
    "\n",
    "A cada geração mantemos os melhores indivíduos inalterados pois queremos que eles continuem sendo avaliados nas próximas gerações. Aqui então variamos a porcentagem de indivíduos que são mantidos pelo menos até a próxima geração."
   ]
  },
  {
   "cell_type": "markdown",
   "id": "137cefdc",
   "metadata": {},
   "source": [
    "##### - 5% melhores"
   ]
  },
  {
   "cell_type": "markdown",
   "id": "95cb5cd5",
   "metadata": {},
   "source": [
    "##### - 10% melhores"
   ]
  },
  {
   "cell_type": "markdown",
   "id": "78cb0a03",
   "metadata": {},
   "source": [
    "##### - 20% melhores"
   ]
  },
  {
   "cell_type": "code",
   "execution_count": 2,
   "id": "e33c5d3c",
   "metadata": {},
   "outputs": [
    {
     "name": "stdout",
     "output_type": "stream",
     "text": [
      "Replaying recorded game gen-0/ind-1.\n",
      "Traceback (most recent call last):\n",
      "  File \"pacman.py\", line 679, in <module>\n",
      "    args = readCommand( sys.argv[1:] ) # Get game components based on input\n",
      "  File \"pacman.py\", line 582, in readCommand\n",
      "    replayGame(**recorded)\n",
      "  File \"pacman.py\", line 620, in replayGame\n",
      "    state = state.generateSuccessor( *action )\n",
      "  File \"pacman.py\", line 99, in generateSuccessor\n",
      "    if self.isWin() or self.isLose(): raise Exception('Can\\'t generate a successor of a terminal state.')\n",
      "Exception: Can't generate a successor of a terminal state.\n"
     ]
    }
   ],
   "source": [
    "! python pacman.py --replay gen-0/ind-1"
   ]
  },
  {
   "cell_type": "markdown",
   "id": "f3a841b8",
   "metadata": {},
   "source": [
    "### Análise"
   ]
  },
  {
   "cell_type": "markdown",
   "id": "834ee74f",
   "metadata": {},
   "source": [
    "## Parte 2 - Aprendizado por Reforço"
   ]
  },
  {
   "cell_type": "markdown",
   "id": "d0edb57b",
   "metadata": {},
   "source": [
    "### Desenvolvimento"
   ]
  },
  {
   "cell_type": "markdown",
   "id": "579a3279",
   "metadata": {},
   "source": [
    "### Análise"
   ]
  }
 ],
 "metadata": {
  "kernelspec": {
   "display_name": "Python 3",
   "language": "python",
   "name": "python3"
  },
  "language_info": {
   "codemirror_mode": {
    "name": "ipython",
    "version": 3
   },
   "file_extension": ".py",
   "mimetype": "text/x-python",
   "name": "python",
   "nbconvert_exporter": "python",
   "pygments_lexer": "ipython3",
   "version": "3.8.10"
  }
 },
 "nbformat": 4,
 "nbformat_minor": 5
}
